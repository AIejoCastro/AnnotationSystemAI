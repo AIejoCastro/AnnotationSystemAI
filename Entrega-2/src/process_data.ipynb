{
 "cells": [
  {
   "cell_type": "code",
   "execution_count": null,
   "id": "5cbe8b61",
   "metadata": {},
   "outputs": [
    {
     "name": "stdout",
     "output_type": "stream",
     "text": [
      "Procesando videos y extrayendo landmarks...\n"
     ]
    },
    {
     "ename": "FileNotFoundError",
     "evalue": "[WinError 3] The system cannot find the path specified: '../../data/dataset_raw'",
     "output_type": "error",
     "traceback": [
      "\u001b[1;31m---------------------------------------------------------------------------\u001b[0m",
      "\u001b[1;31mFileNotFoundError\u001b[0m                         Traceback (most recent call last)",
      "Cell \u001b[1;32mIn[5], line 74\u001b[0m\n\u001b[0;32m     72\u001b[0m \u001b[38;5;66;03m# Procesar todos los videos\u001b[39;00m\n\u001b[0;32m     73\u001b[0m \u001b[38;5;28mprint\u001b[39m(\u001b[38;5;124m\"\u001b[39m\u001b[38;5;124mProcesando videos y extrayendo landmarks...\u001b[39m\u001b[38;5;124m\"\u001b[39m)\n\u001b[1;32m---> 74\u001b[0m \u001b[38;5;28;01mfor\u001b[39;00m file \u001b[38;5;129;01min\u001b[39;00m tqdm(\u001b[43mos\u001b[49m\u001b[38;5;241;43m.\u001b[39;49m\u001b[43mlistdir\u001b[49m\u001b[43m(\u001b[49m\u001b[43mINPUT_DIR\u001b[49m\u001b[43m)\u001b[49m):\n\u001b[0;32m     75\u001b[0m     \u001b[38;5;28;01mif\u001b[39;00m \u001b[38;5;129;01mnot\u001b[39;00m file\u001b[38;5;241m.\u001b[39mendswith((\u001b[38;5;124m\"\u001b[39m\u001b[38;5;124m.mp4\u001b[39m\u001b[38;5;124m\"\u001b[39m, \u001b[38;5;124m\"\u001b[39m\u001b[38;5;124m.avi\u001b[39m\u001b[38;5;124m\"\u001b[39m, \u001b[38;5;124m\"\u001b[39m\u001b[38;5;124m.mov\u001b[39m\u001b[38;5;124m\"\u001b[39m)):\n\u001b[0;32m     76\u001b[0m         \u001b[38;5;28;01mcontinue\u001b[39;00m\n",
      "\u001b[1;31mFileNotFoundError\u001b[0m: [WinError 3] The system cannot find the path specified: '../../data/dataset_raw'"
     ]
    },
    {
     "ename": "",
     "evalue": "",
     "output_type": "error",
     "traceback": [
      "\u001b[1;31mThe Kernel crashed while executing code in the current cell or a previous cell. \n",
      "\u001b[1;31mPlease review the code in the cell(s) to identify a possible cause of the failure. \n",
      "\u001b[1;31mClick <a href='https://aka.ms/vscodeJupyterKernelCrash'>here</a> for more info. \n",
      "\u001b[1;31mView Jupyter <a href='command:jupyter.viewOutput'>log</a> for further details."
     ]
    }
   ],
   "source": [
    "import os\n",
    "import cv2\n",
    "import mediapipe as mp\n",
    "import pandas as pd\n",
    "from tqdm import tqdm\n",
    "\n",
    "# Rutas\n",
    "INPUT_DIR = '../../data/dataset_raw'  # Carpeta con videos\n",
    "OUTPUT_DIR = '../dataset_landmarks'  # Carpeta donde se guardarán los CSV\n",
    "\n",
    "os.makedirs(OUTPUT_DIR, exist_ok=True)\n",
    "\n",
    "# Inicializar MediaPipe\n",
    "mp_pose = mp.solutions.pose\n",
    "pose = mp_pose.Pose(static_image_mode=False)\n",
    "mp_drawing = mp.solutions.drawing_utils\n",
    "\n",
    "# Función para extraer landmarks de un solo frame\n",
    "def extract_landmarks(results):\n",
    "    if not results.pose_landmarks:\n",
    "        return None\n",
    "    row = []\n",
    "    for lm in results.pose_landmarks.landmark:\n",
    "        row.extend([lm.x, lm.y, lm.z, lm.visibility])\n",
    "    return row\n",
    "\n",
    "# Procesar todos los videos\n",
    "for file in tqdm(os.listdir(INPUT_DIR)):\n",
    "    if not file.endswith(\".mp4\"):\n",
    "        continue\n",
    "\n",
    "    video_path = os.path.join(INPUT_DIR, file)\n",
    "    cap = cv2.VideoCapture(video_path)\n",
    "\n",
    "    filename = os.path.splitext(file)[0]\n",
    "    label = \"_\".join(filename.split(\"_\")[2:4])  # e.g., \"caminar_hacia\"\n",
    "\n",
    "    landmarks_list = []\n",
    "    frame_id = 0\n",
    "\n",
    "    while cap.isOpened():\n",
    "        ret, frame = cap.read()\n",
    "        if not ret:\n",
    "            break\n",
    "\n",
    "        frame_rgb = cv2.cvtColor(frame, cv2.COLOR_BGR2RGB)\n",
    "        results = pose.process(frame_rgb)\n",
    "\n",
    "        landmarks = extract_landmarks(results)\n",
    "        if landmarks:\n",
    "            landmarks_list.append([frame_id, label] + landmarks)\n",
    "\n",
    "        frame_id += 1\n",
    "\n",
    "    cap.release()\n",
    "\n",
    "    # Guardar en CSV\n",
    "    if landmarks_list:\n",
    "        df = pd.DataFrame(landmarks_list)\n",
    "        num_landmarks = int((len(df.columns) - 2) / 4)\n",
    "        col_names = [\"frame\", \"label\"] + [\n",
    "            f\"{joint}_{coord}\"\n",
    "            for joint in range(num_landmarks)\n",
    "            for coord in ['x', 'y', 'z', 'vis']\n",
    "        ]\n",
    "        df.columns = col_names\n",
    "        df.to_csv(os.path.join(OUTPUT_DIR, filename + \".csv\"), index=False)\n"
   ]
  }
 ],
 "metadata": {
  "kernelspec": {
   "display_name": "Python 3",
   "language": "python",
   "name": "python3"
  },
  "language_info": {
   "codemirror_mode": {
    "name": "ipython",
    "version": 3
   },
   "file_extension": ".py",
   "mimetype": "text/x-python",
   "name": "python",
   "nbconvert_exporter": "python",
   "pygments_lexer": "ipython3",
   "version": "3.10.11"
  }
 },
 "nbformat": 4,
 "nbformat_minor": 5
}
