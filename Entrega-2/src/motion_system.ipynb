{
 "cells": [
  {
   "cell_type": "code",
   "execution_count": null,
   "id": "66d16a0a",
   "metadata": {},
   "outputs": [
    {
     "name": "stderr",
     "output_type": "stream",
     "text": [
      "I0000 00:00:1747590022.429308   18126 gl_context.cc:369] GL version: 2.1 (2.1 Metal - 89.4), renderer: Apple M2\n",
      "OpenCV: out device of bound (0-0): 1\n",
      "OpenCV: camera failed to properly initialize!\n"
     ]
    },
    {
     "name": "stderr",
     "output_type": "stream",
     "text": [
      "W0000 00:00:1747590022.501192   33882 inference_feedback_manager.cc:114] Feedback manager requires a model with a single signature inference. Disabling support for feedback tensors.\n",
      "W0000 00:00:1747590022.511682   33882 inference_feedback_manager.cc:114] Feedback manager requires a model with a single signature inference. Disabling support for feedback tensors.\n"
     ]
    },
    {
     "ename": "",
     "evalue": "",
     "output_type": "error",
     "traceback": [
      "\u001b[1;31mThe Kernel crashed while executing code in the current cell or a previous cell. \n",
      "\u001b[1;31mPlease review the code in the cell(s) to identify a possible cause of the failure. \n",
      "\u001b[1;31mClick <a href='https://aka.ms/vscodeJupyterKernelCrash'>here</a> for more info. \n",
      "\u001b[1;31mView Jupyter <a href='command:jupyter.viewOutput'>log</a> for further details."
     ]
    }
   ],
   "source": [
    "import cv2\n",
    "import mediapipe as mp\n",
    "import numpy as np\n",
    "import joblib\n",
    "\n",
    "# Cargar modelo y transformadores\n",
    "modelo = joblib.load(\"modelo_rf_output/modelo_rf.pkl\")\n",
    "scaler = joblib.load(\"modelo_rf_output/scaler.pkl\")\n",
    "label_encoder = joblib.load(\"modelo_rf_output/label_encoder.pkl\")\n",
    "\n",
    "# Inicializar MediaPipe Pose\n",
    "mp_pose = mp.solutions.pose\n",
    "pose = mp_pose.Pose(static_image_mode=False, min_detection_confidence=0.5, min_tracking_confidence=0.5)\n",
    "\n",
    "# Función para extraer landmarks (sin visibilidad)\n",
    "def extraer_landmarks(results):\n",
    "    if not results.pose_landmarks:\n",
    "        return None\n",
    "    return [v for lm in results.pose_landmarks.landmark for v in (lm.x, lm.y, lm.z)]\n",
    "\n",
    "# Iniciar captura desde cámara\n",
    "cap = cv2.VideoCapture(1)\n",
    "\n",
    "while cap.isOpened():\n",
    "    ret, frame = cap.read()\n",
    "    if not ret:\n",
    "        break\n",
    "\n",
    "    frame_rgb = cv2.cvtColor(frame, cv2.COLOR_BGR2RGB)\n",
    "    results = pose.process(frame_rgb)\n",
    "\n",
    "    # Dibujar los landmarks en el frame\n",
    "    mp.solutions.drawing_utils.draw_landmarks(\n",
    "        frame, results.pose_landmarks, mp_pose.POSE_CONNECTIONS)\n",
    "\n",
    "    # Extraer y predecir\n",
    "    landmarks = extraer_landmarks(results)\n",
    "    if landmarks:\n",
    "        X = np.array(landmarks).reshape(1, -1)\n",
    "        X_scaled = scaler.transform(X)\n",
    "        y_pred = modelo.predict(X_scaled)\n",
    "        actividad = label_encoder.inverse_transform(y_pred)[0]\n",
    "\n",
    "        # Mostrar actividad en pantalla\n",
    "        cv2.putText(frame, f\"Actividad: {actividad}\", (10, 40),\n",
    "                    cv2.FONT_HERSHEY_SIMPLEX, 1.2, (0, 255, 0), 3)\n",
    "\n",
    "    cv2.imshow(\"Clasificador de Actividades (en vivo)\", frame)\n",
    "    if cv2.waitKey(1) & 0xFF == ord('q'):\n",
    "        break\n",
    "\n",
    "cap.release()\n",
    "cv2.destroyAllWindows()"
   ]
  }
 ],
 "metadata": {
  "kernelspec": {
   "display_name": "Python 3",
   "language": "python",
   "name": "python3"
  },
  "language_info": {
   "codemirror_mode": {
    "name": "ipython",
    "version": 3
   },
   "file_extension": ".py",
   "mimetype": "text/x-python",
   "name": "python",
   "nbconvert_exporter": "python",
   "pygments_lexer": "ipython3",
   "version": "3.9.6"
  }
 },
 "nbformat": 4,
 "nbformat_minor": 5
}
