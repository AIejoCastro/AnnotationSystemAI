{
 "cells": [
  {
   "cell_type": "code",
   "execution_count": 3,
   "id": "995c16bf",
   "metadata": {},
   "outputs": [
    {
     "name": "stdout",
     "output_type": "stream",
     "text": [
      "Defaulting to user installation because normal site-packages is not writeable\n",
      "Collecting tqdm\n",
      "  Using cached tqdm-4.67.1-py3-none-any.whl.metadata (57 kB)\n",
      "Using cached tqdm-4.67.1-py3-none-any.whl (78 kB)\n",
      "Installing collected packages: tqdm\n",
      "Successfully installed tqdm-4.67.1\n",
      "\n",
      "\u001b[1m[\u001b[0m\u001b[34;49mnotice\u001b[0m\u001b[1;39;49m]\u001b[0m\u001b[39;49m A new release of pip is available: \u001b[0m\u001b[31;49m25.0\u001b[0m\u001b[39;49m -> \u001b[0m\u001b[32;49m25.1.1\u001b[0m\n",
      "\u001b[1m[\u001b[0m\u001b[34;49mnotice\u001b[0m\u001b[1;39;49m]\u001b[0m\u001b[39;49m To update, run: \u001b[0m\u001b[32;49m/Library/Developer/CommandLineTools/usr/bin/python3 -m pip install --upgrade pip\u001b[0m\n",
      "Note: you may need to restart the kernel to use updated packages.\n"
     ]
    }
   ],
   "source": [
    "pip install tqdm"
   ]
  },
  {
   "cell_type": "code",
   "execution_count": 7,
   "id": "5cbe8b61",
   "metadata": {},
   "outputs": [
    {
     "name": "stderr",
     "output_type": "stream",
     "text": [
      "I0000 00:00:1747527551.740920  471044 gl_context.cc:369] GL version: 2.1 (2.1 Metal - 89.4), renderer: Apple M2\n",
      "  0%|          | 0/165 [00:00<?, ?it/s]W0000 00:00:1747527551.832480  478305 inference_feedback_manager.cc:114] Feedback manager requires a model with a single signature inference. Disabling support for feedback tensors.\n",
      "W0000 00:00:1747527551.844370  478305 inference_feedback_manager.cc:114] Feedback manager requires a model with a single signature inference. Disabling support for feedback tensors.\n",
      "W0000 00:00:1747527551.859293  478303 landmark_projection_calculator.cc:186] Using NORM_RECT without IMAGE_DIMENSIONS is only supported for the square ROI. Provide IMAGE_DIMENSIONS or use PROJECTION_MATRIX.\n",
      "100%|██████████| 165/165 [04:33<00:00,  1.66s/it]\n"
     ]
    }
   ],
   "source": [
    "import os\n",
    "import cv2\n",
    "import mediapipe as mp\n",
    "import pandas as pd\n",
    "from tqdm import tqdm\n",
    "\n",
    "# Rutas\n",
    "INPUT_DIR = '../../data/dataset_raw'  # Carpeta con videos\n",
    "OUTPUT_DIR = 'dataset_landmarks'  # Carpeta donde se guardarán los CSV\n",
    "\n",
    "os.makedirs(OUTPUT_DIR, exist_ok=True)\n",
    "\n",
    "# Inicializar MediaPipe\n",
    "mp_pose = mp.solutions.pose\n",
    "pose = mp_pose.Pose(static_image_mode=False)\n",
    "mp_drawing = mp.solutions.drawing_utils\n",
    "\n",
    "# Función para extraer landmarks de un solo frame\n",
    "def extract_landmarks(results):\n",
    "    if not results.pose_landmarks:\n",
    "        return None\n",
    "    row = []\n",
    "    for lm in results.pose_landmarks.landmark:\n",
    "        row.extend([lm.x, lm.y, lm.z, lm.visibility])\n",
    "    return row\n",
    "\n",
    "# Procesar todos los videos\n",
    "for file in tqdm(os.listdir(INPUT_DIR)):\n",
    "    if not file.endswith(\".mp4\"):\n",
    "        continue\n",
    "\n",
    "    video_path = os.path.join(INPUT_DIR, file)\n",
    "    cap = cv2.VideoCapture(video_path)\n",
    "\n",
    "    filename = os.path.splitext(file)[0]\n",
    "    label = \"_\".join(filename.split(\"_\")[2:4])  # e.g., \"caminar_hacia\"\n",
    "\n",
    "    landmarks_list = []\n",
    "    frame_id = 0\n",
    "\n",
    "    while cap.isOpened():\n",
    "        ret, frame = cap.read()\n",
    "        if not ret:\n",
    "            break\n",
    "\n",
    "        frame_rgb = cv2.cvtColor(frame, cv2.COLOR_BGR2RGB)\n",
    "        results = pose.process(frame_rgb)\n",
    "\n",
    "        landmarks = extract_landmarks(results)\n",
    "        if landmarks:\n",
    "            landmarks_list.append([frame_id, label] + landmarks)\n",
    "\n",
    "        frame_id += 1\n",
    "\n",
    "    cap.release()\n",
    "\n",
    "    # Guardar en CSV\n",
    "    if landmarks_list:\n",
    "        df = pd.DataFrame(landmarks_list)\n",
    "        num_landmarks = int((len(df.columns) - 2) / 4)\n",
    "        col_names = [\"frame\", \"label\"] + [\n",
    "            f\"{joint}_{coord}\"\n",
    "            for joint in range(num_landmarks)\n",
    "            for coord in ['x', 'y', 'z', 'vis']\n",
    "        ]\n",
    "        df.columns = col_names\n",
    "        df.to_csv(os.path.join(OUTPUT_DIR, filename + \".csv\"), index=False)\n"
   ]
  }
 ],
 "metadata": {
  "kernelspec": {
   "display_name": "Python 3",
   "language": "python",
   "name": "python3"
  },
  "language_info": {
   "codemirror_mode": {
    "name": "ipython",
    "version": 3
   },
   "file_extension": ".py",
   "mimetype": "text/x-python",
   "name": "python",
   "nbconvert_exporter": "python",
   "pygments_lexer": "ipython3",
   "version": "3.9.6"
  }
 },
 "nbformat": 4,
 "nbformat_minor": 5
}
